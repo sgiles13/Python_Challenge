{
 "cells": [
  {
   "cell_type": "code",
   "execution_count": null,
   "metadata": {},
   "outputs": [],
   "source": [
    "import numpy as np\n",
    "import pandas as pd"
   ]
  },
  {
   "cell_type": "code",
   "execution_count": null,
   "metadata": {},
   "outputs": [],
   "source": [
    "ground_truth_df = pd.read_csv('demo_ground_truth_csv.csv')\n",
    "sample_data_df = pd.read_csv('demographic_attributes.csv')"
   ]
  },
  {
   "cell_type": "code",
   "execution_count": null,
   "metadata": {},
   "outputs": [],
   "source": [
    "# There is missing data in the education column (5.5%).\n",
    "# Since these values are undefined for a given person,\n",
    "# a person-level weight cannot be calculated for these entries.\n",
    "# We will drop these rows from the sample dataframe.\n",
    "sample_data_df.dropna(inplace=True)"
   ]
  },
  {
   "cell_type": "code",
   "execution_count": null,
   "metadata": {},
   "outputs": [],
   "source": [
    "# Resetting dataframe indices so they can be directly used\n",
    "# for populating the demographics matrix, M\n",
    "sample_data_df.reset_index(drop=True, inplace=True)"
   ]
  },
  {
   "cell_type": "code",
   "execution_count": null,
   "metadata": {},
   "outputs": [],
   "source": [
    "# Extract possible values for each of the three main categories.\n",
    "# NOTE: The ground truth data includes four other age classes for\n",
    "# individuals under 18. These four classes are wholly absent from\n",
    "# the sample dataset (demographic_attributes.csv). Since these\n",
    "# groups are entirely absent from the sample dataset, they will\n",
    "# be omitted when we calculate the population fractions from the\n",
    "# ground truth dataset for weighting and unbiasing purposes.\n",
    "age_list = sample_data_df['age'].unique()\n",
    "edu_list = sample_data_df['education'].unique()\n",
    "eth_list = sample_data_df['ethnicity'].unique()"
   ]
  },
  {
   "cell_type": "code",
   "execution_count": null,
   "metadata": {},
   "outputs": [],
   "source": [
    "# Create dictionary with keys and corresponding possible values \n",
    "class_dict = {'age': age_list, 'education': edu_list, 'ethnicity': eth_list}"
   ]
  },
  {
   "cell_type": "code",
   "execution_count": null,
   "metadata": {},
   "outputs": [],
   "source": [
    "# pre-define numpy arrays for computational efficiency\n",
    "total_cats = len(age_list) + len(edu_list) + len(eth_list)\n",
    "x_ground = np.zeros(total_cats)\n",
    "x_sample = np.zeros(total_cats)\n",
    "M = np.zeros((len(sample_data_df), total_cats))\n",
    "j = 0\n",
    "for key in class_dict.keys(): # loop through each demographic\n",
    "    categories = list(class_dict[key]) # create list of categories for each demo\n",
    "    # filter census-based df to include only rows for a given demo \n",
    "    filtered_df = ground_truth_df[ground_truth_df['demographic category'].isin(categories)]\n",
    "    total_people = filtered_df['number of individuals'].sum() # total amount of data for a given demo\n",
    "    for category in categories: # loop through each class of each demographic\n",
    "        # calculate population fractions for each class in both ground truth and sample data\n",
    "        x_ground[j] = filtered_df['number of individuals'].loc[filtered_df['demographic category'] == category]/total_people\n",
    "        x_sample[j] = sample_data_df[key].value_counts()[category]/len(sample_data_df)\n",
    "        # return indices which correspond to observances of each class\n",
    "        indices = sample_data_df.index[sample_data_df[key] == category].tolist()\n",
    "        for index in indices:\n",
    "            # populate matrix indicating which demo classes each member belongs to\n",
    "            M[index,j] = 1\n",
    "        j += 1"
   ]
  },
  {
   "cell_type": "code",
   "execution_count": null,
   "metadata": {},
   "outputs": [],
   "source": [
    "X = x_ground*np.reciprocal(x_sample) # calculates ratio of each category in ground to that in the sample data.\n",
    "# For each class represented in X, if value > 1, then the class is under-represented in the sample\n",
    "# (i.e., x_sample < x_ground). If value < 1, then the class is over-represented in the sample\n",
    "# (i.e., x_sample > x_ground)."
   ]
  },
  {
   "cell_type": "code",
   "execution_count": null,
   "metadata": {},
   "outputs": [],
   "source": [
    "# TO CALCULATE WEIGHTS:\n",
    "# Compute dot product of binary class matrix and vector of ground/sample ratios.\n",
    "# A given person's weight, then, is equal to the sum of the ground/sample ratios\n",
    "# of the demographic classes to which they belong. \n",
    "weights = np.linalg.multi_dot([M, np.transpose(X)])\n",
    "# prefer to normalize weights to have mean of unity for clarity\n",
    "weights_normalized = weights/np.mean(weights) \n",
    "person_ids = sample_data_df['person id'].values\n",
    "data = np.stack((person_ids, weights_normalized), axis=1)\n",
    "# Create the requested dataset of IDs and weights and output to CSV\n",
    "weights_df = pd.DataFrame(data=data, columns=['person id', 'weight'])\n",
    "weights_df.to_csv('STEPHEN_GILES_VA_DS_challenge_weights.csv', index=False)"
   ]
  }
 ],
 "metadata": {
  "jupytext": {
   "cell_metadata_filter": "-all",
   "main_language": "python",
   "notebook_metadata_filter": "-all"
  }
 },
 "nbformat": 4,
 "nbformat_minor": 4
}
